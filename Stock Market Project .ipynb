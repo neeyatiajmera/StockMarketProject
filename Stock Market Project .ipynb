{
 "cells": [
  {
   "cell_type": "markdown",
   "metadata": {},
   "source": [
    "# Stock Market Prediction Project\n",
    "\n",
    "In this project I will apply concepts of data analysis and machine learning to analyze and predict stock performance. This information will be used to make trades on Investopedia.\n",
    "\n",
    "Here's my account name: neeyatiajmera\n"
   ]
  },
  {
   "cell_type": "markdown",
   "metadata": {},
   "source": [
    "## Week 1:\n",
    "\n",
    "Since I am completely new to stock market, this week I mainly focused on getting acquainted with the stock market and learning about the jargon and all the key concepts. With that knowledge I decided to look for blue chip companies that have had steady holdings over the past year. I referred to this website: https://money.usnews.com/investing/stock-market-news/slideshows/best-blue-chip-stocks-to-buy-this-year?slide=2\n",
    "\n",
    "To begin with, I decided to invest in these 4 stocks:\n",
    "1) Berkshire Hathaway Class B stock\n",
    "2) 3M company\n",
    "3) JP Morgan Chase\n",
    "4) Johnson and Johnson\n",
    "\n",
    "In the following week, I'll be analyzing data from Yahoo Finance and will be using pasdas_datareader API to analyze data from the past 3 months. In particular, I will be using time-series forecasting to build a LSTM model.\n",
    "\n",
    "Time-series forecasting models are the models that are capable to predict future values based on previously observed values. \n"
   ]
  },
  {
   "cell_type": "markdown",
   "metadata": {},
   "source": [
    "## Week 2\n"
   ]
  },
  {
   "cell_type": "code",
   "execution_count": 2,
   "metadata": {},
   "outputs": [
    {
     "ename": "SyntaxError",
     "evalue": "invalid syntax (<ipython-input-2-3a66936b7cc7>, line 37)",
     "output_type": "error",
     "traceback": [
      "\u001b[1;36m  File \u001b[1;32m\"<ipython-input-2-3a66936b7cc7>\"\u001b[1;36m, line \u001b[1;32m37\u001b[0m\n\u001b[1;33m    model = add(LSTM(units = 50, return_sequences = True))\u001b[0m\n\u001b[1;37m        ^\u001b[0m\n\u001b[1;31mSyntaxError\u001b[0m\u001b[1;31m:\u001b[0m invalid syntax\n"
     ]
    }
   ],
   "source": [
    "import numpy as np\n",
    "import matplotlib.pyplot as plt\n",
    "import pandas as pd\n",
    "import pandas_datareader as web\n",
    "import datetime as dt\n",
    "from sklearn.preprocessing import MinMaxScaler\n",
    "from tensorflow.keras.models import Sequential\n",
    "from tensorflow.keras.layers import Dense, Dropout, LSTM\n",
    "%matplotlib inline\n",
    "\n",
    "\n",
    "company = 'MSFT'\n",
    "yahoo = 'yahoo'\n",
    "startDate = dt.datetime(2019,11,20)\n",
    "endDate = dt.datetime(2021,11,20)\n",
    "\n",
    "data = web.DataReader(company, yahoo, startDate, endDate)\n",
    "\n",
    "scaler = MinMaxScaler(feature_range =(0,1))\n",
    "scaled_data = scaler.fit_transform(data['Close'].values.reshape(-1,1))\n",
    "prediction_days = 100\n",
    "\n",
    "x_train = []\n",
    "y_train = []\n",
    "\n",
    "for x in range (prediction_days, len(scaled_data)):\n",
    "    x_train.append(scaled_data[x-prediction_days: x,0])\n",
    "    y_train.append(scaled_data[x,0])\n",
    "    \n",
    "x_train,y_train = np.array(x_train), np.array(y_train)\n",
    "x_train = np.reshape(x_train, (x_train.shape[0], x_train.shape[1],1))\n",
    "\n",
    "model = Sequential()\n",
    "model.add(LSTM(units = 50, return_sequences = True, input_shape = (x_train.shape[1],1)))\n",
    "model.add(Dropout(0.2)\n",
    "          \n",
    "model = add(LSTM(units = 50, return_sequences = True))\n",
    "model.add(Dropout(0.2)\n",
    "          \n",
    "model = add(LSTM(units = 50))\n",
    "model.add(Dropout(0.2)\n",
    "          \n",
    "model.add(Dense(units = 1))\n",
    "          \n",
    "model.compile(optimizer = 'adam', loss = 'mean_squared_error')\n",
    "model.fit(x_train, y_train, epochs = 25, batch_size = 32)\n",
    "\n",
    "test_startDate = dt.datetime(2021,11,20)\n",
    "test_endDate = dt.datetime.now()\n",
    "\n",
    "company = 'MSFT'\n",
    "test_data = web.DataReader(company, yahoo, test_startDate, test_endDate)\n",
    "          \n",
    "actual_prices = test_data['Close'].values\n",
    "total_dataset = pd.concat((data['Close'],test_data['Close']),axis = 0)\n",
    "\n",
    "model_inputs = total_dataset[len(total_dataset) - len(test_data) - prediction_days:].values\n",
    "model_inputs = model_inputs.reshape(-1,1)\n",
    "model_inputs = scaler.transform(model_inputs)\n",
    "\n",
    "x_test = []\n",
    "\n",
    "for x in range(prediction_days, len(model_inputs)):\n",
    "    x_test.append(model_inputs[x = prediction_days:x,0])\n",
    "\n",
    "x_test = np.array(x_test)\n",
    "x_test = np.reshape(x_test, (x_test.shape[0], x_test.shape[1],1))\n",
    "predicted_prices = model.predict(x_test)\n",
    "predicted_prices = scaler.inverse_transform(predicted_prices)\n",
    "\n",
    "plt.plot(actual_prices, color = \"black\", label = f\"Actual{company} Price\")\n",
    "plt.plot(predicted_prices, color = \"green\", label = f\"Predicted{company} Price\")\n",
    "plt.title(f\"{company} Share Price\")\n",
    "plt.xlabel('Time')\n",
    "plt.ylabel(f\"{company} Share Price\")\n",
    "plt.legend()\n",
    "plt.show()"
   ]
  },
  {
   "cell_type": "code",
   "execution_count": null,
   "metadata": {},
   "outputs": [],
   "source": []
  }
 ],
 "metadata": {
  "kernelspec": {
   "display_name": "Python 3",
   "language": "python",
   "name": "python3"
  },
  "language_info": {
   "codemirror_mode": {
    "name": "ipython",
    "version": 3
   },
   "file_extension": ".py",
   "mimetype": "text/x-python",
   "name": "python",
   "nbconvert_exporter": "python",
   "pygments_lexer": "ipython3",
   "version": "3.7.6"
  }
 },
 "nbformat": 4,
 "nbformat_minor": 4
}
