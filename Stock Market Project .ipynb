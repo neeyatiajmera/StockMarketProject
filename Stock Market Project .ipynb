{
 "cells": [
  {
   "cell_type": "markdown",
   "metadata": {},
   "source": [
    "# Stock Market Prediction Project\n",
    "\n",
    "In this project I will apply concepts of data analysis and machine learning to analyze and predict stock performance. This information will be used to make trades on Investopedia.\n",
    "\n",
    "Here's my account name: neeyatiajmera\n"
   ]
  },
  {
   "cell_type": "markdown",
   "metadata": {},
   "source": [
    "## Week 1:\n",
    "\n",
    "Since I am completely new to stock market, this week I mainly focused on getting acquainted with the stock market and learning about the jargon and all the key concepts. With that knowledge I decided to look for blue chip companies that have had steady holdings over the past year. I referred to this website: https://money.usnews.com/investing/stock-market-news/slideshows/best-blue-chip-stocks-to-buy-this-year?slide=2\n",
    "\n",
    "To begin with, I decided to invest in these 4 stocks:\n",
    "1) Berkshire Hathaway Class B stock\n",
    "2) 3M company\n",
    "3) JP Morgan Chase\n",
    "4) Johnson and Johnson\n",
    "\n",
    "In the following week, I'll be analyzing data from Yahoo Finance and will be using pasdas_datareader API to analyze data from the past 3 months. In particular, I will be using time-series forecasting to build a LSTM model.\n",
    "\n",
    "Time-series forecasting models are the models that are capable to predict future values based on previously observed values. \n"
   ]
  }
 ],
 "metadata": {
  "kernelspec": {
   "display_name": "Python 3",
   "language": "python",
   "name": "python3"
  },
  "language_info": {
   "codemirror_mode": {
    "name": "ipython",
    "version": 3
   },
   "file_extension": ".py",
   "mimetype": "text/x-python",
   "name": "python",
   "nbconvert_exporter": "python",
   "pygments_lexer": "ipython3",
   "version": "3.7.6"
  }
 },
 "nbformat": 4,
 "nbformat_minor": 4
}
