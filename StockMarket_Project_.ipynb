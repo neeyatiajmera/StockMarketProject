{
  "nbformat": 4,
  "nbformat_minor": 0,
  "metadata": {
    "colab": {
      "name": "StockMarket Project  - .ipynb",
      "provenance": [],
      "collapsed_sections": []
    },
    "kernelspec": {
      "name": "python3",
      "display_name": "Python 3"
    },
    "language_info": {
      "name": "python"
    }
  },
  "cells": [
    {
      "cell_type": "markdown",
      "source": [
        "# Week 3: LSTM model for Microsoft. Describing a forecasting model and confirming if last week's buy was good or not\n",
        "\n",
        "I once again used yahoo finance as my financial data source and this week I researched into building a LSTM model to predict stock price for next day. Since I purchased Microsoft's stocks last week it would be good to see if my buy was worth it or not. \n",
        "\n",
        "I would be using numpy, matplotlib, pandas and tensorflow for building my model and analyzing the data.\n",
        "\n",
        "The model is built such that all we have to do is change the company name and we would get the model for that company. \n",
        "\n",
        "LSTM: a time-series model known as Long Short-Term Memory. LSTM models are powerful, especially for retaining a long-term memory. Time-series forecasting models are the models that are capable to predict future values based on previously observed values. Time-series forecasting is widely used for non-stationary data. "
      ],
      "metadata": {
        "id": "HfnA2HSGLLIG"
      }
    },
    {
      "cell_type": "code",
      "execution_count": 2,
      "metadata": {
        "colab": {
          "base_uri": "https://localhost:8080/"
        },
        "id": "e4Gi8hUmEwj8",
        "outputId": "dbd7467c-32ad-4bd4-98de-7dedb8c9e4ff"
      },
      "outputs": [
        {
          "output_type": "stream",
          "name": "stdout",
          "text": [
            "Requirement already satisfied: pandas in /usr/local/lib/python3.7/dist-packages (1.3.4)\n",
            "Requirement already satisfied: pytz>=2017.3 in /usr/local/lib/python3.7/dist-packages (from pandas) (2018.9)\n",
            "Requirement already satisfied: numpy>=1.17.3 in /usr/local/lib/python3.7/dist-packages (from pandas) (1.19.5)\n",
            "Requirement already satisfied: python-dateutil>=2.7.3 in /usr/local/lib/python3.7/dist-packages (from pandas) (2.8.2)\n",
            "Requirement already satisfied: six>=1.5 in /usr/local/lib/python3.7/dist-packages (from python-dateutil>=2.7.3->pandas) (1.15.0)\n",
            "Requirement already satisfied: pandas-datareader in /usr/local/lib/python3.7/dist-packages (0.10.0)\n",
            "Requirement already satisfied: lxml in /usr/local/lib/python3.7/dist-packages (from pandas-datareader) (4.2.6)\n",
            "Requirement already satisfied: pandas>=0.23 in /usr/local/lib/python3.7/dist-packages (from pandas-datareader) (1.3.4)\n",
            "Requirement already satisfied: requests>=2.19.0 in /usr/local/lib/python3.7/dist-packages (from pandas-datareader) (2.23.0)\n",
            "Requirement already satisfied: python-dateutil>=2.7.3 in /usr/local/lib/python3.7/dist-packages (from pandas>=0.23->pandas-datareader) (2.8.2)\n",
            "Requirement already satisfied: pytz>=2017.3 in /usr/local/lib/python3.7/dist-packages (from pandas>=0.23->pandas-datareader) (2018.9)\n",
            "Requirement already satisfied: numpy>=1.17.3 in /usr/local/lib/python3.7/dist-packages (from pandas>=0.23->pandas-datareader) (1.19.5)\n",
            "Requirement already satisfied: six>=1.5 in /usr/local/lib/python3.7/dist-packages (from python-dateutil>=2.7.3->pandas>=0.23->pandas-datareader) (1.15.0)\n",
            "Requirement already satisfied: chardet<4,>=3.0.2 in /usr/local/lib/python3.7/dist-packages (from requests>=2.19.0->pandas-datareader) (3.0.4)\n",
            "Requirement already satisfied: idna<3,>=2.5 in /usr/local/lib/python3.7/dist-packages (from requests>=2.19.0->pandas-datareader) (2.10)\n",
            "Requirement already satisfied: urllib3!=1.25.0,!=1.25.1,<1.26,>=1.21.1 in /usr/local/lib/python3.7/dist-packages (from requests>=2.19.0->pandas-datareader) (1.24.3)\n",
            "Requirement already satisfied: certifi>=2017.4.17 in /usr/local/lib/python3.7/dist-packages (from requests>=2.19.0->pandas-datareader) (2021.10.8)\n"
          ]
        }
      ],
      "source": [
        "import numpy as np\n",
        "import matplotlib.pyplot as plt\n",
        "import pandas as pd\n",
        "import datetime as dt\n",
        "!pip install --upgrade pandas\n",
        "!pip install --upgrade pandas-datareader\n",
        "import pandas_datareader as web\n",
        "from sklearn.preprocessing import MinMaxScaler\n",
        "from tensorflow.keras.models import Sequential\n",
        "from tensorflow.keras.layers import Dense, Dropout, LSTM\n",
        "%matplotlib inline"
      ]
    },
    {
      "cell_type": "markdown",
      "source": [
        ""
      ],
      "metadata": {
        "id": "HNmqSgJdM4NB"
      }
    },
    {
      "cell_type": "markdown",
      "source": [
        "We take two years as the time period and we load the data from yahoo finance.\n",
        "MinMaxScalar scales all the data to be in the region of 0 and 1. This helps with normalization of data\n",
        "We split the data into training set and test set"
      ],
      "metadata": {
        "id": "XgiYws_XN8jN"
      }
    },
    {
      "cell_type": "code",
      "source": [
        "#Microsoft \n",
        "company = 'MSFT'\n",
        "yahoo = 'yahoo'\n",
        "startDate = dt.datetime(2019,11,20)\n",
        "endDate = dt.datetime(2021,11,20)\n",
        "\n",
        "data = web.DataReader(company, yahoo, startDate, endDate)\n",
        "\n",
        "scaler = MinMaxScaler(feature_range =(0,1))\n",
        "scaled_data = scaler.fit_transform(data['Close'].values.reshape(-1,1))\n",
        "prediction_days = 60\n",
        "\n",
        "x_train = []\n",
        "y_train = []"
      ],
      "metadata": {
        "id": "VcEvSf4tE7R0"
      },
      "execution_count": 6,
      "outputs": []
    },
    {
      "cell_type": "markdown",
      "source": [
        ""
      ],
      "metadata": {
        "id": "RxAvjT-SLJM6"
      }
    },
    {
      "cell_type": "markdown",
      "source": [
        "Here, we build the LSTM with 50 neurons and 3 hidden layers and the last one is the output layer.\n",
        "\n",
        "Then we make predictions using the test set and we can use matplotlib to visualize the results. "
      ],
      "metadata": {
        "id": "qEGo0A2vOvCG"
      }
    },
    {
      "cell_type": "code",
      "source": [
        "for x in range (prediction_days, len(scaled_data)):\n",
        "    x_train.append(scaled_data[x-prediction_days: x,0])\n",
        "    y_train.append(scaled_data[x,0])\n",
        "    \n",
        "x_train,y_train = np.array(x_train), np.array(y_train)\n",
        "x_train = np.reshape(x_train, (x_train.shape[0], x_train.shape[1],1))\n",
        "\n",
        "model = Sequential()\n",
        "model.add(LSTM(units = 50, return_sequences = True, input_shape = (x_train.shape[1],1)))\n",
        "model.add(Dropout(0.2))\n",
        "          \n",
        "model.add(LSTM(units = 50, return_sequences = True))\n",
        "model.add(Dropout(0.2))\n",
        "\n",
        "          \n",
        "model.add(LSTM(units = 50))\n",
        "model.add(Dropout(0.2))\n",
        "          \n",
        "model.add(Dense(units = 1))\n",
        "          \n",
        "model.compile(optimizer = 'adam', loss = 'mean_squared_error')\n",
        "model.fit(x_train, y_train, epochs = 25, batch_size = 32)\n",
        "\n",
        "test_startDate = dt.datetime(2020,12,3)\n",
        "test_endDate = dt.datetime(2021,12,3)\n",
        "\n",
        "company = 'MSFT'\n",
        "test_data = web.DataReader(company, yahoo, test_startDate, test_endDate)\n",
        "          \n",
        "actual_prices = test_data['Close'].values\n",
        "total_dataset = pd.concat((data['Close'],test_data['Close']),axis = 0)\n",
        "\n",
        "model_inputs = total_dataset[len(total_dataset) - len(test_data) - prediction_days:].values\n",
        "model_inputs = model_inputs.reshape(-1,1)\n",
        "model_inputs = scaler.transform(model_inputs)\n",
        "\n",
        "x_test = []\n",
        "\n",
        "for x in range(prediction_days, len(model_inputs)):\n",
        "    x_test.append(model_inputs[x - prediction_days:x,0])\n",
        "\n",
        "x_test = np.array(x_test)\n",
        "x_test = np.reshape(x_test, (x_test.shape[0], x_test.shape[1],1))\n",
        "predicted_prices = model.predict(x_test)\n",
        "predicted_prices = scaler.inverse_transform(predicted_prices)\n",
        "\n",
        "plt.plot(actual_prices, color = \"black\", label = f\"Actual{company} Price\")\n",
        "plt.plot(predicted_prices, color = \"green\", label = f\"Predicted{company} Price\")\n",
        "plt.title(f\"{company} Share Price\")\n",
        "plt.xlabel('Time')\n",
        "plt.ylabel(f\"{company} Share Price\")\n",
        "plt.legend()\n",
        "plt.show()"
      ],
      "metadata": {
        "colab": {
          "base_uri": "https://localhost:8080/",
          "height": 1000
        },
        "id": "1oq2o4VqFiep",
        "outputId": "7f5adcc3-456f-46c6-ca23-24aa62686496"
      },
      "execution_count": 7,
      "outputs": [
        {
          "output_type": "stream",
          "name": "stdout",
          "text": [
            "Epoch 1/25\n",
            "14/14 [==============================] - 6s 89ms/step - loss: 0.0550\n",
            "Epoch 2/25\n",
            "14/14 [==============================] - 1s 90ms/step - loss: 0.0122\n",
            "Epoch 3/25\n",
            "14/14 [==============================] - 1s 92ms/step - loss: 0.0069\n",
            "Epoch 4/25\n",
            "14/14 [==============================] - 1s 91ms/step - loss: 0.0055\n",
            "Epoch 5/25\n",
            "14/14 [==============================] - 1s 90ms/step - loss: 0.0045\n",
            "Epoch 6/25\n",
            "14/14 [==============================] - 1s 89ms/step - loss: 0.0043\n",
            "Epoch 7/25\n",
            "14/14 [==============================] - 1s 88ms/step - loss: 0.0044\n",
            "Epoch 8/25\n",
            "14/14 [==============================] - 1s 89ms/step - loss: 0.0043\n",
            "Epoch 9/25\n",
            "14/14 [==============================] - 1s 90ms/step - loss: 0.0044\n",
            "Epoch 10/25\n",
            "14/14 [==============================] - 1s 89ms/step - loss: 0.0044\n",
            "Epoch 11/25\n",
            "14/14 [==============================] - 1s 91ms/step - loss: 0.0041\n",
            "Epoch 12/25\n",
            "14/14 [==============================] - 1s 89ms/step - loss: 0.0038\n",
            "Epoch 13/25\n",
            "14/14 [==============================] - 1s 88ms/step - loss: 0.0038\n",
            "Epoch 14/25\n",
            "14/14 [==============================] - 1s 89ms/step - loss: 0.0045\n",
            "Epoch 15/25\n",
            "14/14 [==============================] - 1s 90ms/step - loss: 0.0040\n",
            "Epoch 16/25\n",
            "14/14 [==============================] - 1s 88ms/step - loss: 0.0037\n",
            "Epoch 17/25\n",
            "14/14 [==============================] - 1s 89ms/step - loss: 0.0039\n",
            "Epoch 18/25\n",
            "14/14 [==============================] - 1s 91ms/step - loss: 0.0041\n",
            "Epoch 19/25\n",
            "14/14 [==============================] - 1s 89ms/step - loss: 0.0045\n",
            "Epoch 20/25\n",
            "14/14 [==============================] - 1s 90ms/step - loss: 0.0037\n",
            "Epoch 21/25\n",
            "14/14 [==============================] - 1s 89ms/step - loss: 0.0038\n",
            "Epoch 22/25\n",
            "14/14 [==============================] - 1s 90ms/step - loss: 0.0041\n",
            "Epoch 23/25\n",
            "14/14 [==============================] - 1s 90ms/step - loss: 0.0034\n",
            "Epoch 24/25\n",
            "14/14 [==============================] - 1s 89ms/step - loss: 0.0035\n",
            "Epoch 25/25\n",
            "14/14 [==============================] - 1s 88ms/step - loss: 0.0033\n"
          ]
        },
        {
          "output_type": "display_data",
          "data": {
            "image/png": "[encoded data removed]",
            "text/plain": [
              "<Figure size 432x288 with 1 Axes>"
            ]
          },
          "metadata": {
            "needs_background": "light"
          }
        }
      ]
    },
    {
      "cell_type": "markdown",
      "source": [
        "\n",
        "We can clearly see how the model closely follows the actual trend and can infact be used to roughly predict the stock price and can indicate if it was a good buy or not. "
      ],
      "metadata": {
        "id": "Afoyrtg0PsKU"
      }
    },
    {
      "cell_type": "code",
      "source": [
        ""
      ],
      "metadata": {
        "id": "rfe3VDbgP1Br"
      },
      "execution_count": null,
      "outputs": []
    },
    {
      "cell_type": "markdown",
      "source": [
        "## Week 4\n",
        "\n",
        "This week, my aim was to see if I could purchase shares from the defense industry like:\n",
        "\n",
        "- Northrop grumman\n",
        "- BAE systems\n",
        "-Honeywell\n",
        "-Huntington industries\n",
        "-Raytheon\n",
        "-General Dynamics\n",
        "\n",
        "All these companies have had a good past performance and I used the same LSTM model to predict if they would be a good buy. However, Investopedia wouldn't let me trade on Dec 10,2021 and therefore I couldn't buy them. By plugging into the same model, I concluded that out of all Raytheon would be a good buy for today as it had the highest difference in prediction (in positive direction). "
      ],
      "metadata": {
        "id": "5M-0tPzTP9Wt"
      }
    },
    {
      "cell_type": "code",
      "source": [
        ""
      ],
      "metadata": {
        "id": "TJEbLPPERV2s"
      },
      "execution_count": null,
      "outputs": []
    }
  ]
}